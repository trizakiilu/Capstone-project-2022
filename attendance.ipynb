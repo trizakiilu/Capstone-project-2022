{
  "nbformat": 4,
  "nbformat_minor": 0,
  "metadata": {
    "colab": {
      "provenance": [],
      "collapsed_sections": [],
      "include_colab_link": true
    },
    "kernelspec": {
      "name": "python3",
      "display_name": "Python 3"
    },
    "language_info": {
      "name": "python"
    },
    "accelerator": "GPU",
    "gpuClass": "standard"
  },
  "cells": [
    {
      "cell_type": "markdown",
      "metadata": {
        "id": "view-in-github",
        "colab_type": "text"
      },
      "source": [
        "<a href=\"https://colab.research.google.com/github/trizakiilu/Capstone-project-2022/blob/main/attendance.ipynb\" target=\"_parent\"><img src=\"https://colab.research.google.com/assets/colab-badge.svg\" alt=\"Open In Colab\"/></a>"
      ]
    },
    {
      "cell_type": "code",
      "execution_count": null,
      "metadata": {
        "colab": {
          "base_uri": "https://localhost:8080/"
        },
        "id": "Y0cdbt6E88jI",
        "outputId": "6974dd07-6f53-4125-a2ae-78ff27c5c059"
      },
      "outputs": [
        {
          "output_type": "stream",
          "name": "stdout",
          "text": [
            "Looking in indexes: https://pypi.org/simple, https://us-python.pkg.dev/colab-wheels/public/simple/\n",
            "Collecting face_recognition\n",
            "  Downloading face_recognition-1.3.0-py2.py3-none-any.whl (15 kB)\n",
            "Requirement already satisfied: Click>=6.0 in /usr/local/lib/python3.7/dist-packages (from face_recognition) (7.1.2)\n",
            "Requirement already satisfied: Pillow in /usr/local/lib/python3.7/dist-packages (from face_recognition) (7.1.2)\n",
            "Requirement already satisfied: dlib>=19.7 in /usr/local/lib/python3.7/dist-packages (from face_recognition) (19.24.0)\n",
            "Collecting face-recognition-models>=0.3.0\n",
            "  Downloading face_recognition_models-0.3.0.tar.gz (100.1 MB)\n",
            "\u001b[K     |████████████████████████████████| 100.1 MB 21 kB/s \n",
            "\u001b[?25hRequirement already satisfied: numpy in /usr/local/lib/python3.7/dist-packages (from face_recognition) (1.21.6)\n",
            "Building wheels for collected packages: face-recognition-models\n",
            "  Building wheel for face-recognition-models (setup.py) ... \u001b[?25l\u001b[?25hdone\n",
            "  Created wheel for face-recognition-models: filename=face_recognition_models-0.3.0-py2.py3-none-any.whl size=100566186 sha256=ba164b84091b63778b13ed35be457660302cc70f1106f1c579cfdb486c5c2397\n",
            "  Stored in directory: /root/.cache/pip/wheels/d6/81/3c/884bcd5e1c120ff548d57c2ecc9ebf3281c9a6f7c0e7e7947a\n",
            "Successfully built face-recognition-models\n",
            "Installing collected packages: face-recognition-models, face-recognition\n",
            "Successfully installed face-recognition-1.3.0 face-recognition-models-0.3.0\n"
          ]
        }
      ],
      "source": [
        "!pip install face_recognition"
      ]
    },
    {
      "cell_type": "code",
      "source": [
        "from google.colab import drive\n",
        "drive.mount('/content/drive/' , force_remount=True)"
      ],
      "metadata": {
        "colab": {
          "base_uri": "https://localhost:8080/"
        },
        "id": "ULVyoFXe9k5J",
        "outputId": "bcf2b366-ec07-4dfb-9b9a-78431a894315"
      },
      "execution_count": null,
      "outputs": [
        {
          "output_type": "stream",
          "name": "stdout",
          "text": [
            "Mounted at /content/drive/\n"
          ]
        }
      ]
    },
    {
      "cell_type": "code",
      "source": [
        "import face_recognition\n",
        "import numpy as np\n",
        "import cv2\n",
        "import pandas as pd\n",
        "import os\n",
        "from google.colab.patches import cv2_imshow"
      ],
      "metadata": {
        "id": "twvnHa9x9TXt"
      },
      "execution_count": null,
      "outputs": []
    },
    {
      "cell_type": "code",
      "source": [
        "def read_train_images(folder , dim):\n",
        "  X = []\n",
        "  encode = []\n",
        "  Y = []\n",
        "  n_samples=0\n",
        "  none_image = 0\n",
        "  for i in os.listdir(folder): #for reading items from folder\n",
        "      #print(i) \n",
        "      img_file = cv2.imread( folder +'/' + i)\n",
        "      #cv2_imshow(img_file)\n",
        "      if img_file is not None:\n",
        "          img_orginal=cv2.resize(img_file,dim)# resize image\n",
        "          face_location = face_recognition.face_locations(img_orginal)# finding location of face in images\n",
        "          encoded_img = face_recognition.face_encodings(img_orginal, face_location)# encoding images\n",
        "          #print(face_location)            \n",
        "          X.append(img_orginal)# resized images in to X\n",
        "          encode.append(encoded_img) # encoded images in to encode\n",
        "          name = os.path.split(i)[-1]\n",
        "          Y.append(name)# names of images(students) into Y(next line)\n",
        "          n_samples+=1    \n",
        "      else:#if it is None\n",
        "        none_image=+1\n",
        "        print(f'there is {none_image} \"not image\" file in this folder')\n",
        "\n",
        "  return X , Y, encode\n",
        "dim = (1200,1200)\n",
        "train_folder =  \"/content/drive/MyDrive/attendance /train\"\n",
        "x , y , encoded_images= read_train_images(train_folder, dim) "
      ],
      "metadata": {
        "id": "B8wgj8WqAaSD"
      },
      "execution_count": null,
      "outputs": []
    },
    {
      "cell_type": "code",
      "source": [
        "def read_test_image(test_folder, dim, encoded_images, y):\n",
        "  Attendees_list = []\n",
        "  k=0\n",
        "  for iter in os.listdir(test_folder):\n",
        "    test_img = cv2.imread(test_folder +'/' + iter)\n",
        "    j = 0\n",
        "    for i in encoded_images:\n",
        "      test_img=cv2.resize(test_img,dim)\n",
        "      face_location_test = face_recognition.face_locations(test_img)\n",
        "      encoded_test = face_recognition.face_encodings(test_img, face_location_test)\n",
        "      results = face_recognition.compare_faces(np.array(i), encoded_test)\n",
        "      if results[0]:\n",
        "        \n",
        "        Attendees_list.append(y[j])\n",
        "      else:\n",
        "        pass\n",
        "      j+=1\n",
        "    k+=1   \n",
        "  return Attendees_list, k\n",
        "test_folder = \"/content/drive/MyDrive/attendance /test\"\n",
        "raw_list, K = read_test_image(test_folder, dim, encoded_images, y)\n",
        "lis_of_attendees = []\n",
        "[lis_of_attendees.append(x) for x in raw_list if x not in lis_of_attendees]\n",
        "\n",
        "absent_list = list(set(y).difference(lis_of_attendees))\n",
        "print(f'Attendees students are :{lis_of_attendees}')\n",
        "print(f'Absents students are :{absent_list}')\n",
        "\n",
        "if K>len(lis_of_attendees):\n",
        "  strange_no = K-len(lis_of_attendees)\n",
        "  print(f'There are {strange_no} strange person in the class. Be careful!!')"
      ],
      "metadata": {
        "colab": {
          "base_uri": "https://localhost:8080/"
        },
        "id": "m4zoMoEmAejv",
        "outputId": "357d958e-54e1-44f4-d2fd-07adae592d37"
      },
      "execution_count": null,
      "outputs": [
        {
          "output_type": "stream",
          "name": "stdout",
          "text": [
            "Attendees students are :['amin-train.jpeg', 'naser.jpeg', 'jennifer.jpg']\n",
            "Absents students are :['leonardo.jpg', 'kevin.jpg']\n",
            "There are 1 strange person in the class. Be careful!!\n"
          ]
        }
      ]
    },
    {
      "cell_type": "code",
      "source": [
        "print(K)\n",
        "\n",
        "print(len(raw_list))\n",
        "\n",
        "print(raw_list)\n",
        "\n",
        "\n"
      ],
      "metadata": {
        "colab": {
          "base_uri": "https://localhost:8080/"
        },
        "id": "0nqQsO2gr7_k",
        "outputId": "843c5bb8-a580-4112-df59-293ed4be2506"
      },
      "execution_count": null,
      "outputs": [
        {
          "output_type": "stream",
          "name": "stdout",
          "text": [
            "4\n",
            "4\n",
            "['amin-train.jpeg', 'naser.jpeg', 'jennifer.jpg', 'naser.jpeg']\n"
          ]
        }
      ]
    }
  ]
}