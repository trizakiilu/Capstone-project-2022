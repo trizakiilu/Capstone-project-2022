{
  "nbformat": 4,
  "nbformat_minor": 0,
  "metadata": {
    "colab": {
      "provenance": [],
      "include_colab_link": true
    },
    "kernelspec": {
      "name": "python3",
      "display_name": "Python 3"
    },
    "language_info": {
      "name": "python"
    },
    "accelerator": "GPU",
    "gpuClass": "standard"
  },
  "cells": [
    {
      "cell_type": "markdown",
      "metadata": {
        "id": "view-in-github",
        "colab_type": "text"
      },
      "source": [
        "<a href=\"https://colab.research.google.com/github/trizakiilu/Capstone-project-2022/blob/main/FINAL%20PRODUCT%20LAUNCH.ipynb\" target=\"_parent\"><img src=\"https://colab.research.google.com/assets/colab-badge.svg\" alt=\"Open In Colab\"/></a>"
      ]
    },
    {
      "cell_type": "code",
      "execution_count": 1,
      "metadata": {
        "colab": {
          "base_uri": "https://localhost:8080/"
        },
        "id": "Y0cdbt6E88jI",
        "outputId": "c47c3838-7b67-40c1-dfe6-a83d7e77b8b4"
      },
      "outputs": [
        {
          "output_type": "stream",
          "name": "stdout",
          "text": [
            "Looking in indexes: https://pypi.org/simple, https://us-python.pkg.dev/colab-wheels/public/simple/\n",
            "Collecting face_recognition\n",
            "  Downloading face_recognition-1.3.0-py2.py3-none-any.whl (15 kB)\n",
            "Requirement already satisfied: Click>=6.0 in /usr/local/lib/python3.8/dist-packages (from face_recognition) (7.1.2)\n",
            "Requirement already satisfied: Pillow in /usr/local/lib/python3.8/dist-packages (from face_recognition) (7.1.2)\n",
            "Requirement already satisfied: dlib>=19.7 in /usr/local/lib/python3.8/dist-packages (from face_recognition) (19.24.0)\n",
            "Collecting face-recognition-models>=0.3.0\n",
            "  Downloading face_recognition_models-0.3.0.tar.gz (100.1 MB)\n",
            "\u001b[K     |████████████████████████████████| 100.1 MB 17 kB/s \n",
            "\u001b[?25hRequirement already satisfied: numpy in /usr/local/lib/python3.8/dist-packages (from face_recognition) (1.21.6)\n",
            "Building wheels for collected packages: face-recognition-models\n",
            "  Building wheel for face-recognition-models (setup.py) ... \u001b[?25l\u001b[?25hdone\n",
            "  Created wheel for face-recognition-models: filename=face_recognition_models-0.3.0-py2.py3-none-any.whl size=100566185 sha256=e1a3b18ef78d89d0e0855a2f52da2d654ec881ef38cb35118f8dde37c0aade2b\n",
            "  Stored in directory: /root/.cache/pip/wheels/b4/4b/8f/751e99d45f089bdf366a7d3e5066db3c2b84a62e4377f534d7\n",
            "Successfully built face-recognition-models\n",
            "Installing collected packages: face-recognition-models, face-recognition\n",
            "Successfully installed face-recognition-1.3.0 face-recognition-models-0.3.0\n"
          ]
        }
      ],
      "source": [
        "!pip install face_recognition"
      ]
    },
    {
      "cell_type": "code",
      "source": [
        "from google.colab import drive\n",
        "drive.mount('/content/drive/' , force_remount=True)\n",
        "import face_recognition\n",
        "import numpy as np\n",
        "import cv2\n",
        "import pandas as pd\n",
        "import os\n",
        "from google.colab.patches import cv2_imshow\n",
        "import os\n",
        "import PIL\n",
        "import io\n",
        "from base64 import b64decode, b64encode\n",
        "import time"
      ],
      "metadata": {
        "colab": {
          "base_uri": "https://localhost:8080/"
        },
        "id": "0wk1Xe6SykoG",
        "outputId": "1151f82c-f2e8-40ce-fd49-5d7b3ffab6a5"
      },
      "execution_count": 2,
      "outputs": [
        {
          "output_type": "stream",
          "name": "stdout",
          "text": [
            "Mounted at /content/drive/\n"
          ]
        }
      ]
    },
    {
      "cell_type": "code",
      "source": [
        "os.chdir('/content/drive/MyDrive/attendance')\n",
        "import Video_Capture"
      ],
      "metadata": {
        "id": "ULVyoFXe9k5J"
      },
      "execution_count": 6,
      "outputs": []
    },
    {
      "cell_type": "code",
      "source": [
        "a = Video_Capture\n",
        "video_stream = a.Video_Capture().video_stream\n",
        "video_frame = a.Video_Capture().video_frame\n",
        "js_to_image = a.Video_Capture().js_to_image\n",
        "bbox_to_bytes = a.Video_Capture().bbox_to_bytes"
      ],
      "metadata": {
        "id": "twvnHa9x9TXt"
      },
      "execution_count": 7,
      "outputs": []
    },
    {
      "cell_type": "code",
      "source": [
        "video_stream()\n",
        "face_cascade = cv2.CascadeClassifier(cv2.samples.findFile(cv2.data.haarcascades + 'haarcascade_frontalface_default.xml'))\n",
        "label_html = 'Capturing...'\n",
        "# initialze bounding box to empty\n",
        "bbox = ''\n",
        "count = 0 \n",
        "while True:\n",
        "    js_reply = video_frame(label_html, bbox)\n",
        "    if not js_reply:\n",
        "        break\n",
        "    # convert JS response to OpenCV Image\n",
        "    \n",
        "    image_bytes = b64decode(js_reply[\"img\"].split(',')[1])         \n",
        "    #img = js_to_image(js_reply[\"img\"])\n",
        "    jpg_as_np = np.frombuffer(image_bytes, dtype=np.uint8)\n",
        "    # decode numpy array into OpenCV BGR image\n",
        "    img = cv2.imdecode(jpg_as_np, flags=1)\n",
        "    # create transparent overlay for bounding box\n",
        "    bbox_array = np.zeros([600,600,4], dtype=np.uint8)\n",
        "\n",
        "    # grayscale image for face detection\n",
        "    gray = cv2.cvtColor(img, cv2.COLOR_RGB2GRAY)\n",
        "    #face_location = face_recognition.face_locations(img)\n",
        "    # get face region coordinates\n",
        "    faces = face_cascade.detectMultiScale(gray)\n",
        "    # get face bounding box for overlay\n",
        "    for (x,y,w,h) in faces:\n",
        "      bbox_array = cv2.rectangle(bbox_array,(x,y),(x+w,y+h),(255,0,0),2)\n",
        "\n",
        "    bbox_array[:,:,3] = (bbox_array.max(axis = 2) > 0 ).astype(int) * 255\n",
        "    # convert overlay of bbox into bytes\n",
        "    bbox_PIL = PIL.Image.fromarray(bbox_array, 'RGBA')\n",
        "    iobuf = io.BytesIO()\n",
        "    # format bbox into png for return\n",
        "    bbox_PIL.save(iobuf, format='png')\n",
        "    # format return string\n",
        "    bbox_bytes = 'data:image/png;base64,{}'.format((str(b64encode(iobuf.getvalue()), 'utf-8')))\n",
        "      # update bbox so next frame gets new overlay\n",
        "    bbox = bbox_bytes\n",
        "    filename =  \"/content/drive/MyDrive/attendance/test/4.png\"\n",
        "    cv2.imwrite(filename, img)"
      ],
      "metadata": {
        "id": "B8wgj8WqAaSD",
        "colab": {
          "base_uri": "https://localhost:8080/",
          "height": 17
        },
        "outputId": "a4cb469d-128a-4d18-eadc-9a34f6e4cd73"
      },
      "execution_count": 8,
      "outputs": [
        {
          "output_type": "display_data",
          "data": {
            "text/plain": [
              "<IPython.core.display.Javascript object>"
            ],
            "application/javascript": [
              "\n",
              "            var video;\n",
              "            var div = null;\n",
              "            var stream;\n",
              "            var captureCanvas;\n",
              "            var imgElement;\n",
              "            var labelElement;\n",
              "            \n",
              "            var pendingResolve = null;\n",
              "            var shutdown = false;\n",
              "            \n",
              "            function removeDom() {\n",
              "            stream.getVideoTracks()[0].stop();\n",
              "            video.remove();\n",
              "            div.remove();\n",
              "            video = null;\n",
              "            div = null;\n",
              "            stream = null;\n",
              "            imgElement = null;\n",
              "            captureCanvas = null;\n",
              "            labelElement = null;\n",
              "            }\n",
              "            \n",
              "            function onAnimationFrame() {\n",
              "            if (!shutdown) {\n",
              "                window.requestAnimationFrame(onAnimationFrame);\n",
              "            }\n",
              "            if (pendingResolve) {\n",
              "                var result = \"\";\n",
              "                if (!shutdown) {\n",
              "                captureCanvas.getContext('2d').drawImage(video, 0, 0, 640, 480);\n",
              "                result = captureCanvas.toDataURL('image/jpeg', 0.8)\n",
              "                }\n",
              "                var lp = pendingResolve;\n",
              "                pendingResolve = null;\n",
              "                lp(result);\n",
              "            }\n",
              "            }\n",
              "            \n",
              "            async function createDom() {\n",
              "            if (div !== null) {\n",
              "                return stream;\n",
              "            }\n",
              "\n",
              "            div = document.createElement('div');\n",
              "            div.style.border = '2px solid black';\n",
              "            div.style.padding = '3px';\n",
              "            div.style.width = '100%';\n",
              "            div.style.maxWidth = '600px';\n",
              "            document.body.appendChild(div);\n",
              "            \n",
              "            const modelOut = document.createElement('div');\n",
              "            modelOut.innerHTML = \"Status:\";\n",
              "            labelElement = document.createElement('span');\n",
              "            labelElement.innerText = 'No data';\n",
              "            labelElement.style.fontWeight = 'bold';\n",
              "            modelOut.appendChild(labelElement);\n",
              "            div.appendChild(modelOut);\n",
              "                \n",
              "            video = document.createElement('video');\n",
              "            video.style.display = 'block';\n",
              "            video.width = div.clientWidth - 6;\n",
              "            video.setAttribute('playsinline', '');\n",
              "            video.onclick = () => { shutdown = true; };\n",
              "            stream = await navigator.mediaDevices.getUserMedia(\n",
              "                {video: { facingMode: \"environment\"}});\n",
              "            div.appendChild(video);\n",
              "\n",
              "            imgElement = document.createElement('img');\n",
              "            imgElement.style.position = 'absolute';\n",
              "            imgElement.style.zIndex = 1;\n",
              "            imgElement.onclick = () => { shutdown = true; };\n",
              "            div.appendChild(imgElement);\n",
              "            \n",
              "            const instruction = document.createElement('div');\n",
              "            instruction.innerHTML = \n",
              "                '' +\n",
              "                'When finished, click here or on the video to stop this demo';\n",
              "            div.appendChild(instruction);\n",
              "            instruction.onclick = () => { shutdown = true; };\n",
              "            \n",
              "            video.srcObject = stream;\n",
              "            await video.play();\n",
              "\n",
              "            captureCanvas = document.createElement('canvas');\n",
              "            captureCanvas.width = 640; //video.videoWidth;\n",
              "            captureCanvas.height = 480; //video.videoHeight;\n",
              "            window.requestAnimationFrame(onAnimationFrame);\n",
              "            \n",
              "            return stream;\n",
              "            }\n",
              "            async function stream_frame(label, imgData) {\n",
              "            if (shutdown) {\n",
              "                removeDom();\n",
              "                shutdown = false;\n",
              "                return '';\n",
              "            }\n",
              "\n",
              "            var preCreate = Date.now();\n",
              "            stream = await createDom();\n",
              "            \n",
              "            var preShow = Date.now();\n",
              "            if (label != \"\") {\n",
              "                labelElement.innerHTML = label;\n",
              "            }\n",
              "                    \n",
              "            if (imgData != \"\") {\n",
              "                var videoRect = video.getClientRects()[0];\n",
              "                imgElement.style.top = videoRect.top + \"px\";\n",
              "                imgElement.style.left = videoRect.left + \"px\";\n",
              "                imgElement.style.width = videoRect.width + \"px\";\n",
              "                imgElement.style.height = videoRect.height + \"px\";\n",
              "                imgElement.src = imgData;\n",
              "            }\n",
              "            \n",
              "            var preCapture = Date.now();\n",
              "            var result = await new Promise(function(resolve, reject) {\n",
              "                pendingResolve = resolve;\n",
              "            });\n",
              "            shutdown = false;\n",
              "            \n",
              "            return {'create': preShow - preCreate, \n",
              "                    'show': preCapture - preShow, \n",
              "                    'capture': Date.now() - preCapture,\n",
              "                    'img': result};\n",
              "            }\n",
              "            "
            ]
          },
          "metadata": {}
        }
      ]
    },
    {
      "cell_type": "code",
      "source": [
        "def read_train_images(folder , dim):\n",
        "  X = []\n",
        "  encode = []\n",
        "  y = []\n",
        "  Y = []\n",
        "  n_samples=0\n",
        "  none_image = 0\n",
        "  for i in os.listdir(folder):\n",
        "      #print(i) \n",
        "      img_file = cv2.imread( folder +'/' + i)\n",
        "      #cv2_imshow(img_file)\n",
        "      if img_file is not None:\n",
        "          img_orginal=cv2.resize(img_file,dim)\n",
        "          face_location = face_recognition.face_locations(img_orginal)\n",
        "          encoded_img = face_recognition.face_encodings(img_orginal, face_location)\n",
        "          #print(face_location)            \n",
        "          X.append(img_orginal)\n",
        "          encode.append(encoded_img)\n",
        "          name = os.path.split(i)[-1]\n",
        "          Y.append(name)\n",
        "          n_samples+=1    \n",
        "      else:\n",
        "        none_image=+1\n",
        "        print(f'there is {none_image} \"not image\" file in this folder')\n",
        "\n",
        "  return X , Y, encode\n",
        "dim = (600,600)\n",
        "train_folder =  \"/content/drive/MyDrive/attendance/train\"\n",
        "x , y , encoded_images= read_train_images(train_folder, dim)"
      ],
      "metadata": {
        "id": "m4zoMoEmAejv"
      },
      "execution_count": 9,
      "outputs": []
    },
    {
      "cell_type": "code",
      "source": [
        "def read_test_image(test_folder, dim, encoded_images, y):\n",
        "  Attendees_list = []\n",
        "  k=0\n",
        "  for iter in os.listdir(test_folder):\n",
        "    test_img = cv2.imread(test_folder + iter)\n",
        "    j = 0\n",
        "    for i in encoded_images:\n",
        "      test_img=cv2.resize(test_img,dim)\n",
        "      face_location_test = face_recognition.face_locations(test_img)\n",
        "      encoded_test = face_recognition.face_encodings(test_img, face_location_test)\n",
        "      \n",
        "      if len(encoded_test) == 0:\n",
        "        results = []\n",
        "        \n",
        "      else:\n",
        "        results = face_recognition.compare_faces(np.array(i), np.array(encoded_test))\n",
        "        print(iter)\n",
        "        if results[0]:\n",
        "          Attendees_list.append(y[j])\n",
        "        else:\n",
        "          pass\n",
        "      j+=1\n",
        "    k+=1   \n",
        "  return Attendees_list, k\n",
        "test_folder = \"/content/drive/MyDrive/attendance/test/\"\n",
        "raw_list, K = read_test_image(test_folder, dim, encoded_images, y)\n"
      ],
      "metadata": {
        "id": "mwM-lX36uZgx"
      },
      "execution_count": 10,
      "outputs": []
    },
    {
      "cell_type": "code",
      "source": [
        "lis_of_attendees = []\n",
        "[lis_of_attendees.append(x) for x in raw_list if x not in lis_of_attendees]\n",
        "\n",
        "absent_list = list(set(y).difference(lis_of_attendees))\n",
        "Absents = []\n",
        "for i in absent_list:\n",
        "  name = i.split('.')[0]\n",
        "  Absents.append(name)\n",
        "\n",
        "Attendees = []\n",
        "for i in lis_of_attendees:\n",
        "  name = i.split('.')[0]\n",
        "  Attendees.append(name)\n",
        "print(f'Attendees students are :{Attendees}')\n",
        "print(f'Absents students are :{Absents}')\n",
        "\n",
        "if K>len(raw_list):\n",
        "  strange_no = K-len(raw_list)\n",
        "  print(f'There are {strange_no} strange person in the class. Be careful!!')"
      ],
      "metadata": {
        "id": "85cvNSrGzm6Z",
        "colab": {
          "base_uri": "https://localhost:8080/"
        },
        "outputId": "cffb0a9c-9987-470b-bcb3-cb8fdeab1900"
      },
      "execution_count": 11,
      "outputs": [
        {
          "output_type": "stream",
          "name": "stdout",
          "text": [
            "Attendees students are :[]\n",
            "Absents students are :['Ritvij', 'triza', 'Amin', 'Nasar']\n",
            "There are 2 strange person in the class. Be careful!!\n"
          ]
        }
      ]
    },
    {
      "cell_type": "code",
      "source": [
        "import pandas as pd\n",
        "import time\n",
        "from datetime import date\n",
        "import csv\n",
        "\n",
        "today = date.today().strftime('%Y-%m-%d %H:%M:%S')\n",
        "os.chdir('/content/drive/MyDrive/attendance/')"
      ],
      "metadata": {
        "id": "K6p7CkO0zqzD"
      },
      "execution_count": 12,
      "outputs": []
    },
    {
      "cell_type": "code",
      "source": [
        "!pip install xlsxwriter \n"
      ],
      "metadata": {
        "id": "PDfQwhtnzt3O",
        "colab": {
          "base_uri": "https://localhost:8080/"
        },
        "outputId": "de2eacf4-ec5d-4164-b04b-9a19005478c3"
      },
      "execution_count": 13,
      "outputs": [
        {
          "output_type": "stream",
          "name": "stdout",
          "text": [
            "Looking in indexes: https://pypi.org/simple, https://us-python.pkg.dev/colab-wheels/public/simple/\n",
            "Collecting xlsxwriter\n",
            "  Downloading XlsxWriter-3.0.3-py3-none-any.whl (149 kB)\n",
            "\u001b[K     |████████████████████████████████| 149 kB 24.9 MB/s \n",
            "\u001b[?25hInstalling collected packages: xlsxwriter\n",
            "Successfully installed xlsxwriter-3.0.3\n"
          ]
        }
      ]
    },
    {
      "cell_type": "code",
      "source": [
        "import xlsxwriter\n",
        "#worksheet = pd.read_excel('ClassList.xlsx')\n",
        "workbook = xlsxwriter.Workbook('ClassList.xlsx')\n",
        "worksheet = workbook.add_worksheet()\n",
        "worksheet.write('A1', 'Date')\n",
        "worksheet.write('B1', 'Time of Check')\n",
        "worksheet.write('C1', 'Amin')\n",
        "worksheet.write('D1', 'Nasar')\n",
        "worksheet.write('E1', 'Ritvij') \n",
        "worksheet.write('F1', 'Triza')\n",
        "\n",
        "worksheet.write('A2', today.split(' ')[0])\n",
        "worksheet.write('B2', today.split(' ')[1])\n",
        "if 'Amin' in Attendees:\n",
        "  worksheet.write('C2', 'Present')\n",
        "else:\n",
        "  worksheet.write('C2', 'Absent')\n",
        "if 'Nasar' in Attendees:\n",
        "  worksheet.write('D2', 'Present')\n",
        "else:\n",
        "  worksheet.write('D2', 'Absent')\n",
        "if 'Ritvij' in Attendees:\n",
        "  worksheet.write('E2', 'Present')\n",
        "else:\n",
        "  worksheet.write('E2', 'Absent')\n",
        "if 'Triza' in Attendees:\n",
        "  worksheet.write('F2', 'Present')\n",
        "else:\n",
        "  worksheet.write('F2', 'Absent')\n",
        "workbook.close()"
      ],
      "metadata": {
        "id": "nHiP959rzyUr"
      },
      "execution_count": 14,
      "outputs": []
    }
  ]
}